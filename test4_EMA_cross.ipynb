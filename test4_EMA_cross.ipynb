{
 "cells": [
  {
   "cell_type": "markdown",
   "metadata": {},
   "source": [
    "##### Generate the EMA indicater with talib package. Generate signal with my logic"
   ]
  },
  {
   "cell_type": "code",
   "execution_count": 1,
   "metadata": {},
   "outputs": [
    {
     "name": "stdout",
     "output_type": "stream",
     "text": [
      "pandas version: 2.2.3\n",
      "pybroker version: 1.2.5\n"
     ]
    }
   ],
   "source": [
    "from dotenv import find_dotenv, load_dotenv\n",
    "import os\n",
    "import psycopg2\n",
    "import pandas as pd\n",
    "import numpy as np\n",
    "from numba import njit\n",
    "import talib\n",
    "import pybroker \n",
    "from pybroker import Strategy, IndicatorSet, highest\n",
    "from pybroker.data import DataSource, YFinance\n",
    "import matplotlib.pyplot as plt\n",
    "%matplotlib inline\n",
    "%config InlineBackend.figure_format = 'retina'\n",
    "\n",
    "print(f\"pandas version: {pd.__version__}\")\n",
    "print(f\"pybroker version: {pybroker.__version__}\")"
   ]
  },
  {
   "cell_type": "code",
   "execution_count": 2,
   "metadata": {},
   "outputs": [],
   "source": [
    "def load_data_from_postgres(db_host, db_name, db_user, db_password, table_name, symbol, start_date, end_date):\n",
    "    \"\"\"\n",
    "    Loads data from a PostgreSQL database and returns a pybroker Data object.\n",
    "\n",
    "    Args:\n",
    "        db_host (str): Hostname of the PostgreSQL database.\n",
    "        db_name (str): Name of the database.\n",
    "        db_user (str): Username to connect to the database.\n",
    "        db_password (str): Password to connect to the database.\n",
    "        table_name (str): Name of the table containing the data.\n",
    "        symbol (str): The symbol for the data.\n",
    "        start_date (str): Start date for the data (YYYY-MM-DD).\n",
    "        end_date (str): End date for the data (YYYY-MM-DD).\n",
    "\n",
    "    Returns:\n",
    "        pybroker.data.Data: A pybroker Data object.\n",
    "    \"\"\"\n",
    "    conn = None  # Initialize conn to None\n",
    "    try:\n",
    "        conn = psycopg2.connect(host=db_host, database=db_name, user=db_user, password=db_password)\n",
    "        curr = conn.cursor()\n",
    "    # Construct the SQL query to fetch data within the specified date range\n",
    "        query = f\"\"\" \n",
    "            SELECT ticker, date, open, high, low, closes, volume\n",
    "            FROM {table_name}\n",
    "            WHERE date >= '{start_date}' AND date <= '{end_date}' AND ticker ilike '{symbol}'\n",
    "            ORDER BY date ASC;\n",
    "        \"\"\"\n",
    "        curr.execute(query)\n",
    "        data_row = curr.fetchall()\n",
    "\n",
    "        if not data_row:\n",
    "            print(f\"No data found in table {table_name} for the given date range.\")\n",
    "\n",
    "        # Convert fetched data into pandas DataFrame\n",
    "        # df = pd.DataFrame(data_row, columns=['Symbol', 'Date', 'Open', 'High', 'Low', 'Close', 'Volume'])\n",
    "        df = pd.DataFrame(data_row, columns=['symbol', 'date', 'open', 'high', 'low', 'close', 'volume'])\n",
    "\n",
    "\n",
    "        # convert to float data type for these columns\n",
    "        df['open'] = pd.to_numeric(df['open'], errors='coerce')\n",
    "        df['high'] = pd.to_numeric(df['high'], errors='coerce')\n",
    "        df['low'] = pd.to_numeric(df['low'], errors='coerce')\n",
    "        df['close'] = pd.to_numeric(df['close'], errors='coerce')\n",
    "        df['volume'] = pd.to_numeric(df['volume'], errors='coerce')\n",
    "\n",
    "        # Set 'Date' as index and convert to datetime\n",
    "        df['date'] = pd.to_datetime(df['date'])\n",
    "        # df.set_index('date', inplace=True)\n",
    "\n",
    "        # Create a pybroker Data object\n",
    "        # pybroker_data = data.Data(symbol, df)\n",
    "        return df\n",
    "    \n",
    "    except psycopg2.Error as e:\n",
    "        print(f\"Error connecting to PostgreSQL: {e}\")\n",
    "        return None # Return None if there was an error\n",
    "    \n",
    "    finally:\n",
    "        if conn:\n",
    "            curr.close()\n",
    "            conn.close()\n",
    "\n",
    "\n"
   ]
  },
  {
   "cell_type": "code",
   "execution_count": null,
   "metadata": {},
   "outputs": [
    {
     "name": "stdout",
     "output_type": "stream",
     "text": [
      "db_host: localhost\n",
      "db_name: blk\n",
      "db_user: postgres\n",
      "db_password: blk*4848\n"
     ]
    }
   ],
   "source": [
    "## connect to 'blk' postgress database\n",
    "db_host = os.getenv(\"db_host\")\n",
    "db_name = os.getenv(\"db_name\")\n",
    "db_user = os.getenv(\"db_user\")\n",
    "db_password = os.getenv(\"db_password\")\n",
    "    \n",
    "table_name = 'vw_siamchart_par_adj'\n",
    "symbol = 'PTTEP'\n",
    "start_date = \"2023-01-01\"\n",
    "end_date = \"2024-12-31\"\n",
    "\n",
    "print(f\"db_host: {db_host}\\ndb_name: {db_name}\\ndb_user: {db_user}\\ndb_password: {db_password}\")\n"
   ]
  },
  {
   "cell_type": "code",
   "execution_count": 4,
   "metadata": {},
   "outputs": [
    {
     "data": {
      "text/html": [
       "<div>\n",
       "<style scoped>\n",
       "    .dataframe tbody tr th:only-of-type {\n",
       "        vertical-align: middle;\n",
       "    }\n",
       "\n",
       "    .dataframe tbody tr th {\n",
       "        vertical-align: top;\n",
       "    }\n",
       "\n",
       "    .dataframe thead th {\n",
       "        text-align: right;\n",
       "    }\n",
       "</style>\n",
       "<table border=\"1\" class=\"dataframe\">\n",
       "  <thead>\n",
       "    <tr style=\"text-align: right;\">\n",
       "      <th></th>\n",
       "      <th>symbol</th>\n",
       "      <th>date</th>\n",
       "      <th>open</th>\n",
       "      <th>high</th>\n",
       "      <th>low</th>\n",
       "      <th>close</th>\n",
       "      <th>volume</th>\n",
       "    </tr>\n",
       "  </thead>\n",
       "  <tbody>\n",
       "    <tr>\n",
       "      <th>0</th>\n",
       "      <td>PTTEP</td>\n",
       "      <td>2023-01-03</td>\n",
       "      <td>178.0</td>\n",
       "      <td>178.5</td>\n",
       "      <td>175.0</td>\n",
       "      <td>175.0</td>\n",
       "      <td>6298100.0</td>\n",
       "    </tr>\n",
       "    <tr>\n",
       "      <th>1</th>\n",
       "      <td>PTTEP</td>\n",
       "      <td>2023-01-04</td>\n",
       "      <td>173.0</td>\n",
       "      <td>173.0</td>\n",
       "      <td>167.0</td>\n",
       "      <td>167.0</td>\n",
       "      <td>18276400.0</td>\n",
       "    </tr>\n",
       "    <tr>\n",
       "      <th>2</th>\n",
       "      <td>PTTEP</td>\n",
       "      <td>2023-01-05</td>\n",
       "      <td>167.0</td>\n",
       "      <td>170.0</td>\n",
       "      <td>165.5</td>\n",
       "      <td>168.5</td>\n",
       "      <td>17177000.0</td>\n",
       "    </tr>\n",
       "    <tr>\n",
       "      <th>3</th>\n",
       "      <td>PTTEP</td>\n",
       "      <td>2023-01-06</td>\n",
       "      <td>168.0</td>\n",
       "      <td>169.5</td>\n",
       "      <td>167.5</td>\n",
       "      <td>167.5</td>\n",
       "      <td>6477700.0</td>\n",
       "    </tr>\n",
       "    <tr>\n",
       "      <th>4</th>\n",
       "      <td>PTTEP</td>\n",
       "      <td>2023-01-09</td>\n",
       "      <td>169.0</td>\n",
       "      <td>169.5</td>\n",
       "      <td>167.0</td>\n",
       "      <td>168.5</td>\n",
       "      <td>7524500.0</td>\n",
       "    </tr>\n",
       "  </tbody>\n",
       "</table>\n",
       "</div>"
      ],
      "text/plain": [
       "  symbol       date   open   high    low  close      volume\n",
       "0  PTTEP 2023-01-03  178.0  178.5  175.0  175.0   6298100.0\n",
       "1  PTTEP 2023-01-04  173.0  173.0  167.0  167.0  18276400.0\n",
       "2  PTTEP 2023-01-05  167.0  170.0  165.5  168.5  17177000.0\n",
       "3  PTTEP 2023-01-06  168.0  169.5  167.5  167.5   6477700.0\n",
       "4  PTTEP 2023-01-09  169.0  169.5  167.0  168.5   7524500.0"
      ]
     },
     "execution_count": 4,
     "metadata": {},
     "output_type": "execute_result"
    }
   ],
   "source": [
    "df = load_data_from_postgres(db_host, db_name, db_user, db_password, \n",
    "                             table_name, symbol, start_date, end_date)\n",
    "\n",
    "df.head()"
   ]
  },
  {
   "cell_type": "code",
   "execution_count": null,
   "metadata": {},
   "outputs": [],
   "source": []
  }
 ],
 "metadata": {
  "kernelspec": {
   "display_name": "pybroker_env",
   "language": "python",
   "name": "python3"
  },
  "language_info": {
   "codemirror_mode": {
    "name": "ipython",
    "version": 3
   },
   "file_extension": ".py",
   "mimetype": "text/x-python",
   "name": "python",
   "nbconvert_exporter": "python",
   "pygments_lexer": "ipython3",
   "version": "3.10.16"
  }
 },
 "nbformat": 4,
 "nbformat_minor": 2
}
